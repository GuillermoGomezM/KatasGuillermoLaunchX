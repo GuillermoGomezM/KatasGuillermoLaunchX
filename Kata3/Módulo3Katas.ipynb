{
 "cells": [
  {
   "cell_type": "markdown",
   "metadata": {},
   "source": [
    "Soluciones\n",
    "Problema No. 1"
   ]
  },
  {
   "cell_type": "code",
   "execution_count": 5,
   "metadata": {},
   "outputs": [
    {
     "name": "stdout",
     "output_type": "stream",
     "text": [
      "El asteroide se acerca demasiado rápido\n"
     ]
    }
   ],
   "source": [
    "asteroide = input(\"Ingrese a que velosidad se mueve el asteroide: \")\n",
    "if int(asteroide) >= 49:\n",
    "    print(\"El asteroide se acerca demasiado rápido\")\n",
    "elif int(asteroide) < 49:\n",
    "    print(\"El asteroide se mueve a una velocidad normal\")"
   ]
  },
  {
   "cell_type": "markdown",
   "metadata": {},
   "source": [
    "Problema No. 2"
   ]
  },
  {
   "cell_type": "code",
   "execution_count": 7,
   "metadata": {},
   "outputs": [
    {
     "name": "stdout",
     "output_type": "stream",
     "text": [
      "Hay estrellas en el cielo pero no hay un asteroide\n"
     ]
    }
   ],
   "source": [
    "asteroide = input(\"Ingrese a que velosidad se mueve el asteroide: \")\n",
    "if int(asteroide) >= 20:\n",
    "    print(\"¡Mira al cielo!, un asteroide pasando por la tierra\")\n",
    "elif int(asteroide) < 20:\n",
    "    print(\"Hay estrellas en el cielo pero no hay un asteroide\")"
   ]
  },
  {
   "cell_type": "markdown",
   "metadata": {},
   "source": [
    "Problema No. 3\n"
   ]
  },
  {
   "cell_type": "code",
   "execution_count": 10,
   "metadata": {},
   "outputs": [
    {
     "name": "stdout",
     "output_type": "stream",
     "text": [
      "¡Mira al cielo!, un asteroide pasando por la tierra\n"
     ]
    }
   ],
   "source": [
    "velocidad = input(\"Ingrese a que velosidad se mueve el asteroide: \")\n",
    "tamaño = input(\"Ingrese el tamaño del asteroide: \")\n",
    "if int(velocidad) > 25 and int(tamaño) > 25:\n",
    "    print(\"Alerta, un asteroide gigante se está moviendo en un direccion no permitida hacia la tierra\")\n",
    "elif int(velocidad) >= 20:\n",
    "    print(\"¡Mira al cielo!, un asteroide pasando por la tierra\")\n",
    "elif int(tamaño) < 25:\n",
    "    print(\"Hay estrellas en el cielo pero no hay un asteroide\")\n",
    "else:\n",
    "    print(\"No hay asteroides en el cielo\")"
   ]
  }
 ],
 "metadata": {
  "interpreter": {
   "hash": "18cb7214e02e6bb3fa7522cc00a75f4e21135e698b5c78b0bd3a9b41f29ba598"
  },
  "kernelspec": {
   "display_name": "Python 3.8.5 64-bit ('base': conda)",
   "language": "python",
   "name": "python3"
  },
  "language_info": {
   "codemirror_mode": {
    "name": "ipython",
    "version": 3
   },
   "file_extension": ".py",
   "mimetype": "text/x-python",
   "name": "python",
   "nbconvert_exporter": "python",
   "pygments_lexer": "ipython3",
   "version": "3.8.5"
  },
  "orig_nbformat": 4
 },
 "nbformat": 4,
 "nbformat_minor": 2
}
