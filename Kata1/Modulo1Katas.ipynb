{
 "cells": [
  {
   "cell_type": "markdown",
   "metadata": {},
   "source": [
    "Soluciones\n",
    "Aquí está la solución para el primer programa:"
   ]
  },
  {
   "cell_type": "code",
   "execution_count": 2,
   "metadata": {},
   "outputs": [
    {
     "name": "stdout",
     "output_type": "stream",
     "text": [
      "Hoy es el dia: 11/02/2022.\n"
     ]
    }
   ],
   "source": [
    "from datetime import date\n",
    "\n",
    "print(\"Hoy es el dia: \" + str(date.today().strftime(\"%d/%m/%Y\")) + \".\")"
   ]
  },
  {
   "cell_type": "code",
   "execution_count": 4,
   "metadata": {},
   "outputs": [
    {
     "name": "stdout",
     "output_type": "stream",
     "text": [
      "11 parsecs son 35.877159999999996 años de luz.\n"
     ]
    }
   ],
   "source": [
    "parsec = 11\n",
    "añosluz = parsec * 3.26156\n",
    "print(str(parsec) + \" parsecs son \" + str(añosluz) + \" años de luz.\")"
   ]
  }
 ],
 "metadata": {
  "interpreter": {
   "hash": "18cb7214e02e6bb3fa7522cc00a75f4e21135e698b5c78b0bd3a9b41f29ba598"
  },
  "kernelspec": {
   "display_name": "Python 3.8.5 64-bit ('base': conda)",
   "language": "python",
   "name": "python3"
  },
  "language_info": {
   "codemirror_mode": {
    "name": "ipython",
    "version": 3
   },
   "file_extension": ".py",
   "mimetype": "text/x-python",
   "name": "python",
   "nbconvert_exporter": "python",
   "pygments_lexer": "ipython3",
   "version": "3.8.5"
  },
  "orig_nbformat": 4
 },
 "nbformat": 4,
 "nbformat_minor": 2
}
