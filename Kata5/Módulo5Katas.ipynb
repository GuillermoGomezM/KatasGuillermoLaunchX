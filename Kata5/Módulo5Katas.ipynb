{
 "cells": [
  {
   "cell_type": "markdown",
   "metadata": {},
   "source": [
    "Soluciones\n",
    "Ejercicio 1"
   ]
  },
  {
   "cell_type": "code",
   "execution_count": 1,
   "metadata": {},
   "outputs": [
    {
     "name": "stdout",
     "output_type": "stream",
     "text": [
      "Esta es la distancia de km de la tierra y mercurio 628949330\n",
      "Esta es la distancia en millas de la tierra y mercurio 390577533.93\n"
     ]
    }
   ],
   "source": [
    "tierra = 149597870\n",
    "mercurio = 778547200\n",
    "\n",
    "distancia_en_km = mercurio - tierra\n",
    "print('Esta es la distancia de km de la tierra y mercurio '+ str(distancia_en_km))\n",
    "\n",
    "distancia_en_Millas = distancia_en_km * 0.621\n",
    "print('Esta es la distancia en millas de la tierra y mercurio ' + str(distancia_en_Millas))"
   ]
  },
  {
   "cell_type": "markdown",
   "metadata": {},
   "source": [
    "Ejercicio 2\n"
   ]
  },
  {
   "cell_type": "code",
   "execution_count": 4,
   "metadata": {},
   "outputs": [
    {
     "name": "stdout",
     "output_type": "stream",
     "text": [
      "Distancia entre 3 puntos 65622231\n",
      "40751405.451\n"
     ]
    }
   ],
   "source": [
    "planeta1 = input('Introduzca la distancia del sol para el primer planeta en KM')\n",
    "planeta2 = input('Introduzca la distancia desde el sol para el segundo planeta en KM')\n",
    "\n",
    "distancia_en_km = int(planeta2) - int(planeta1)\n",
    "print('Distancia entre 3 puntos ' + str(distancia_en_km))\n",
    "\n",
    "# Convertir de Kilometros a Millas\n",
    "distancia_en_Millas = distancia_en_km * 0.621\n",
    "print(abs(distancia_en_Millas))"
   ]
  }
 ],
 "metadata": {
  "interpreter": {
   "hash": "18cb7214e02e6bb3fa7522cc00a75f4e21135e698b5c78b0bd3a9b41f29ba598"
  },
  "kernelspec": {
   "display_name": "Python 3.8.5 64-bit ('base': conda)",
   "language": "python",
   "name": "python3"
  },
  "language_info": {
   "codemirror_mode": {
    "name": "ipython",
    "version": 3
   },
   "file_extension": ".py",
   "mimetype": "text/x-python",
   "name": "python",
   "nbconvert_exporter": "python",
   "pygments_lexer": "ipython3",
   "version": "3.8.5"
  },
  "orig_nbformat": 4
 },
 "nbformat": 4,
 "nbformat_minor": 2
}
