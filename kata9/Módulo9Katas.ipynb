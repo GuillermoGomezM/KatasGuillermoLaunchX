{
 "cells": [
  {
   "cell_type": "markdown",
   "metadata": {},
   "source": [
    "Soluciones\n",
    "Ejercicio 1"
   ]
  },
  {
   "cell_type": "code",
   "execution_count": 4,
   "metadata": {},
   "outputs": [],
   "source": [
    "def reporte_general(tanque1, tanque2, tanque3):\n",
    "    media_total = (tanque1 + tanque2 + tanque3) / 3\n",
    "    return f\"\"\" Total de combustible:\n",
    "    Media total: {media_total}%\n",
    "    Tanque 1: {tanque1}%\n",
    "    Tanque 2: {tanque2}%\n",
    "    Tanque 3: {tanque3}% \n",
    "    \"\"\""
   ]
  },
  {
   "cell_type": "code",
   "execution_count": 5,
   "metadata": {},
   "outputs": [
    {
     "name": "stdout",
     "output_type": "stream",
     "text": [
      " Total de combustible:\n",
      "    Media total: 53.333333333333336%\n",
      "    Tanque 1: 40%\n",
      "    Tanque 2: 50%\n",
      "    Tanque 3: 70% \n",
      "    \n"
     ]
    }
   ],
   "source": [
    "print(reporte_general(40, 50, 70))"
   ]
  },
  {
   "cell_type": "code",
   "execution_count": 38,
   "metadata": {},
   "outputs": [],
   "source": [
    "def media(valores):\n",
    "    total = sum(valores)\n",
    "    total_valores = len(valores)\n",
    "    return total / total_valores\n",
    "\n",
    "#media = media([1, 2, 3, 4, 5.3333333])"
   ]
  },
  {
   "cell_type": "code",
   "execution_count": 39,
   "metadata": {},
   "outputs": [
    {
     "name": "stdout",
     "output_type": "stream",
     "text": [
      "El promedio es de 3.067\n"
     ]
    }
   ],
   "source": [
    "print(f'El promedio es de {round(media,3)}')"
   ]
  },
  {
   "cell_type": "code",
   "execution_count": 36,
   "metadata": {},
   "outputs": [],
   "source": [
    "def reporte_general(tanque1, tanque2, tanque3):\n",
    "    return f\"\"\" Total de combustible:\n",
    "    Media total: {media([tanque1,tanque2,tanque3])}%\n",
    "    Tanque 1: {tanque1}%\n",
    "    Tanque 2: {tanque2}%\n",
    "    Tanque 3: {tanque3}% \n",
    "    \"\"\""
   ]
  },
  {
   "cell_type": "code",
   "execution_count": 37,
   "metadata": {},
   "outputs": [
    {
     "name": "stdout",
     "output_type": "stream",
     "text": [
      " Total de combustible:\n",
      "    Media total: 53.333333333333336%\n",
      "    Tanque 1: 40%\n",
      "    Tanque 2: 50%\n",
      "    Tanque 3: 70% \n",
      "    \n"
     ]
    }
   ],
   "source": [
    "print(reporte_general(40, 50, 70))"
   ]
  },
  {
   "cell_type": "markdown",
   "metadata": {},
   "source": [
    "Ejercicio 2:"
   ]
  },
  {
   "cell_type": "code",
   "execution_count": 42,
   "metadata": {},
   "outputs": [
    {
     "name": "stdout",
     "output_type": "stream",
     "text": [
      "\n",
      "    Misión Luna\n",
      "    Tiempo total de viaje: 65 minutos\n",
      "    Queda un total de combustible: 500000 litros\n",
      "    \n"
     ]
    }
   ],
   "source": [
    "def reporte_mision(prelanzamiento, tiempo_de_vuelo, destino, tanque_externo, tanque_interno):\n",
    "    return f\"\"\"\n",
    "    Misión {destino}\n",
    "    Tiempo total de viaje: {prelanzamiento + tiempo_de_vuelo} minutos\n",
    "    Queda un total de combustible: {tanque_externo + tanque_interno} litros\n",
    "    \"\"\"\n",
    "\n",
    "print(reporte_mision(14, 51, \"Luna\", 200000, 300000))"
   ]
  },
  {
   "cell_type": "code",
   "execution_count": 47,
   "metadata": {},
   "outputs": [
    {
     "name": "stdout",
     "output_type": "stream",
     "text": [
      "\n",
      "    Misión Luna\n",
      "    Tiempo total de viaje: 76 minutos\n",
      "    Queda un total de combustible: 500000 litros\n",
      "    \n"
     ]
    }
   ],
   "source": [
    "def reporte_mision( destino, *minutos, **combustible_reserva):\n",
    "    return f\"\"\"\n",
    "    Misión {destino}\n",
    "    Tiempo total de viaje: {sum(minutos)} minutos\n",
    "    Queda un total de combustible: {sum(combustible_reserva.values())} litros\n",
    "    \"\"\"\n",
    "\n",
    "print(reporte_mision(\"Luna\", 10, 15,51, externo=200000, interno=300000))"
   ]
  },
  {
   "cell_type": "code",
   "execution_count": 52,
   "metadata": {},
   "outputs": [
    {
     "name": "stdout",
     "output_type": "stream",
     "text": [
      "\n",
      "    Misión Luna\n",
      "    Tiempo total de viaje: 76 minutos\n",
      "    Queda un total de combustible: 500000 litros\n",
      "    tanque externo --> Quedan 200000 litros \n",
      " \ttanque interno --> Quedan 300000 litros \n",
      " \t\n"
     ]
    }
   ],
   "source": [
    "def reporte_mision( destino, *minutos, **combustible_reserva):\n",
    "    reporte = f\"\"\"\n",
    "    Misión {destino}\n",
    "    Tiempo total de viaje: {sum(minutos)} minutos\n",
    "    Queda un total de combustible: {sum(combustible_reserva.values())} litros\n",
    "    \"\"\"\n",
    "    for nombre_tanque, litros in combustible_reserva.items():\n",
    "        reporte += f\"tanque {nombre_tanque} --> Quedan {litros} litros \\n \\t\"\n",
    "    return reporte\n",
    "\n",
    "print(reporte_mision(\"Luna\", 10, 15,51, externo=200000, interno=300000))\n"
   ]
  }
 ],
 "metadata": {
  "interpreter": {
   "hash": "18cb7214e02e6bb3fa7522cc00a75f4e21135e698b5c78b0bd3a9b41f29ba598"
  },
  "kernelspec": {
   "display_name": "Python 3.8.5 64-bit ('base': conda)",
   "language": "python",
   "name": "python3"
  },
  "language_info": {
   "codemirror_mode": {
    "name": "ipython",
    "version": 3
   },
   "file_extension": ".py",
   "mimetype": "text/x-python",
   "name": "python",
   "nbconvert_exporter": "python",
   "pygments_lexer": "ipython3",
   "version": "3.8.5"
  },
  "orig_nbformat": 4
 },
 "nbformat": 4,
 "nbformat_minor": 2
}
